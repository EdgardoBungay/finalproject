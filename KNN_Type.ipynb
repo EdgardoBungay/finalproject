{
 "cells": [
  {
   "cell_type": "code",
   "execution_count": 2,
   "metadata": {},
   "outputs": [],
   "source": [
    "\n",
    "import pandas as pd\n",
    "from sklearn.model_selection import train_test_split\n",
    "from sklearn.preprocessing import MinMaxScaler\n",
    "from sklearn.linear_model import LogisticRegression\n",
    "from sklearn.ensemble import RandomForestClassifier\n",
    "from sklearn.neighbors import KNeighborsClassifier\n",
    "import random\n",
    "import numpy as np\n",
    "from sklearn.metrics import confusion_matrix\n",
    "from sklearn.metrics import classification_report\n",
    "from sklearn.model_selection import GridSearchCV"
   ]
  },
  {
   "cell_type": "code",
   "execution_count": null,
   "metadata": {},
   "outputs": [],
   "source": []
  },
  {
   "cell_type": "code",
   "execution_count": null,
   "metadata": {},
   "outputs": [],
   "source": [
    "red = pd.read_csv(\"winequality-red.csv\")\n",
    "white = pd.read_csv(\"winequality-white.csv\")\n",
    "red = red.append(white)\n",
    "wine = red\n",
    "X = wine.drop(columns=[\"type\", \"quality\"])\n",
    "y = wine[\"type\"]\n",
    "X_train, X_test, y_train, y_test = train_test_split(X, y, train_size=0.75, random_state=1, stratify=y)\n",
    "scaler = MinMaxScaler()\n",
    "X_train_scaled = scaler.fit_transform(X_train)\n",
    "X_test_scaled = scaler.fit_transform(X_test) \n",
    "model = KNeighborsClassifier(n_neighbors=5)\n",
    "model.fit(X_train_scaled, y_train)\n",
    "#param\n",
    "model_score = model.score(X_test_scaled, y_test)\n",
    "predictions = model.predict(X_test_scaled)\n",
    "conf = confusion_matrix(y_test, predictions)\n",
    "data = {\n",
    "    \"Red\": [conf[0][0], conf[1][0]],\n",
    "    \"White\": [conf[0][1], conf[1][1]]\n",
    "}\n",
    "#param\n",
    "conf_table = pd.DataFrame(data, index=[\"Red\", \"White\"]).to_html().replace(\"\\n\", \"\").replace('<tr style=\"text-align: right;\">', '<tr>')\n",
    "class_report = classification_report(y_test, predictions, output_dict=True)\n",
    "#param\n",
    "class_report = pd.DataFrame(class_report).to_html().replace(\"\\n\", \"\").replace('<tr style=\"text-align: right;\">', '<tr>')\n",
    "result_df = X_test\n",
    "result_df[\"Predictions\"] = predictions\n",
    "result_df[\"Actual\"] = y_test\n",
    "result_df = result_df.reset_index()\n",
    "global ran\n",
    "ran = random.randrange(0, len(X_test))\n",
    "ran_selection = pd.DataFrame(result_df.iloc[ran]).transpose()\n",
    "current_params = ran_selection.drop(columns=[\"index\", \"Predictions\", \"Actual\"])\n",
    "#param\n",
    "params_table = current_params.to_html(index=False).replace(\"\\n\", \"\").replace('<tr style=\"text-align: right;\">', '<tr>')\n",
    "current_pred = ran_selection[\"Predictions\"]\n",
    "actual = ran_selection[\"Actual\"]\n",
    "#param\n",
    "result_table = pd.DataFrame({\"Predicted\": current_pred, \"Actual\": actual}).to_html().replace(\"\\n\", \"\").replace('<tr style=\"text-align: right;\">', '<tr>')\n",
    "print (model_score, params_table, result_table, class_report, conf_table)\n",
    "\n"
   ]
  },
  {
   "cell_type": "code",
   "execution_count": null,
   "metadata": {},
   "outputs": [],
   "source": []
  },
  {
   "cell_type": "code",
   "execution_count": 4,
   "metadata": {},
   "outputs": [],
   "source": [
    "ran=100"
   ]
  },
  {
   "cell_type": "code",
   "execution_count": null,
   "metadata": {},
   "outputs": [],
   "source": []
  },
  {
   "cell_type": "code",
   "execution_count": 5,
   "metadata": {},
   "outputs": [
    {
     "name": "stdout",
     "output_type": "stream",
     "text": [
      "<table border=\"1\" class=\"dataframe\">  <thead>    <tr>      <th></th>      <th>mean_fit_time</th>      <th>std_fit_time</th>      <th>mean_score_time</th>      <th>std_score_time</th>      <th>param_n_neighbors</th>      <th>params</th>      <th>split0_test_score</th>      <th>split1_test_score</th>      <th>split2_test_score</th>      <th>split3_test_score</th>      <th>split4_test_score</th>      <th>mean_test_score</th>      <th>std_test_score</th>      <th>rank_test_score</th>    </tr>  </thead>  <tbody>    <tr>      <th>0</th>      <td>0.011381</td>      <td>0.000792</td>      <td>0.036703</td>      <td>0.001315</td>      <td>1</td>      <td>{'n_neighbors': 1}</td>      <td>0.851282</td>      <td>0.846154</td>      <td>0.845996</td>      <td>0.851129</td>      <td>0.841889</td>      <td>0.847290</td>      <td>0.003544</td>      <td>1</td>    </tr>    <tr>      <th>1</th>      <td>0.010577</td>      <td>0.000499</td>      <td>0.044473</td>      <td>0.000794</td>      <td>2</td>      <td>{'n_neighbors': 2}</td>      <td>0.842051</td>      <td>0.840000</td>      <td>0.850103</td>      <td>0.845996</td>      <td>0.853183</td>      <td>0.846267</td>      <td>0.004892</td>      <td>2</td>    </tr>    <tr>      <th>2</th>      <td>0.011170</td>      <td>0.000977</td>      <td>0.053847</td>      <td>0.006973</td>      <td>3</td>      <td>{'n_neighbors': 3}</td>      <td>0.826667</td>      <td>0.827692</td>      <td>0.833676</td>      <td>0.831622</td>      <td>0.836756</td>      <td>0.831282</td>      <td>0.003741</td>      <td>7</td>    </tr>    <tr>      <th>3</th>      <td>0.011770</td>      <td>0.001171</td>      <td>0.058243</td>      <td>0.004744</td>      <td>4</td>      <td>{'n_neighbors': 4}</td>      <td>0.838974</td>      <td>0.820513</td>      <td>0.844969</td>      <td>0.844969</td>      <td>0.837782</td>      <td>0.837442</td>      <td>0.008971</td>      <td>3</td>    </tr>    <tr>      <th>4</th>      <td>0.014579</td>      <td>0.005241</td>      <td>0.065407</td>      <td>0.009449</td>      <td>5</td>      <td>{'n_neighbors': 5}</td>      <td>0.830769</td>      <td>0.810256</td>      <td>0.827515</td>      <td>0.843943</td>      <td>0.829569</td>      <td>0.828410</td>      <td>0.010757</td>      <td>8</td>    </tr>    <tr>      <th>5</th>      <td>0.012573</td>      <td>0.001494</td>      <td>0.064434</td>      <td>0.007279</td>      <td>6</td>      <td>{'n_neighbors': 6}</td>      <td>0.825641</td>      <td>0.819487</td>      <td>0.841889</td>      <td>0.843943</td>      <td>0.847023</td>      <td>0.835596</td>      <td>0.010940</td>      <td>4</td>    </tr>    <tr>      <th>6</th>      <td>0.010970</td>      <td>0.000001</td>      <td>0.057241</td>      <td>0.001495</td>      <td>7</td>      <td>{'n_neighbors': 7}</td>      <td>0.832821</td>      <td>0.817436</td>      <td>0.823409</td>      <td>0.843943</td>      <td>0.838809</td>      <td>0.831283</td>      <td>0.009726</td>      <td>6</td>    </tr>    <tr>      <th>7</th>      <td>0.010576</td>      <td>0.000492</td>      <td>0.058451</td>      <td>0.001501</td>      <td>8</td>      <td>{'n_neighbors': 8}</td>      <td>0.830769</td>      <td>0.820513</td>      <td>0.833676</td>      <td>0.848049</td>      <td>0.836756</td>      <td>0.833953</td>      <td>0.008915</td>      <td>5</td>    </tr>    <tr>      <th>8</th>      <td>0.010973</td>      <td>0.000003</td>      <td>0.060240</td>      <td>0.001493</td>      <td>9</td>      <td>{'n_neighbors': 9}</td>      <td>0.830769</td>      <td>0.809231</td>      <td>0.826489</td>      <td>0.839836</td>      <td>0.829569</td>      <td>0.827179</td>      <td>0.010014</td>      <td>9</td>    </tr>  </tbody></table> <table border=\"1\" class=\"dataframe\">  <thead>    <tr>      <th></th>      <th>Red</th>      <th>White</th>    </tr>  </thead>  <tbody>    <tr>      <th>Red</th>      <td>1110</td>      <td>196</td>    </tr>    <tr>      <th>White</th>      <td>195</td>      <td>124</td>    </tr>  </tbody></table> <table border=\"1\" class=\"dataframe\">  <thead>    <tr>      <th></th>      <th>Bad Wine</th>      <th>Good Wine</th>      <th>accuracy</th>      <th>macro avg</th>      <th>weighted avg</th>    </tr>  </thead>  <tbody>    <tr>      <th>f1-score</th>      <td>0.850249</td>      <td>0.388106</td>      <td>0.759385</td>      <td>0.619178</td>      <td>0.759527</td>    </tr>    <tr>      <th>precision</th>      <td>0.850575</td>      <td>0.387500</td>      <td>0.759385</td>      <td>0.619037</td>      <td>0.759670</td>    </tr>    <tr>      <th>recall</th>      <td>0.849923</td>      <td>0.388715</td>      <td>0.759385</td>      <td>0.619319</td>      <td>0.759385</td>    </tr>    <tr>      <th>support</th>      <td>1306.000000</td>      <td>319.000000</td>      <td>0.759385</td>      <td>1625.000000</td>      <td>1625.000000</td>    </tr>  </tbody></table> <table border=\"1\" class=\"dataframe\">  <thead>    <tr>      <th></th>      <th>Predicted</th>      <th>Actual</th>    </tr>  </thead>  <tbody>    <tr>      <th>100</th>      <td>Bad Wine</td>      <td>Bad Wine</td>    </tr>  </tbody></table> 0.7593846153846154\n"
     ]
    },
    {
     "name": "stderr",
     "output_type": "stream",
     "text": [
      "C:\\ProgramData\\Anaconda3\\lib\\site-packages\\ipykernel_launcher.py:35: SettingWithCopyWarning: \n",
      "A value is trying to be set on a copy of a slice from a DataFrame.\n",
      "Try using .loc[row_indexer,col_indexer] = value instead\n",
      "\n",
      "See the caveats in the documentation: http://pandas.pydata.org/pandas-docs/stable/indexing.html#indexing-view-versus-copy\n",
      "C:\\ProgramData\\Anaconda3\\lib\\site-packages\\ipykernel_launcher.py:36: SettingWithCopyWarning: \n",
      "A value is trying to be set on a copy of a slice from a DataFrame.\n",
      "Try using .loc[row_indexer,col_indexer] = value instead\n",
      "\n",
      "See the caveats in the documentation: http://pandas.pydata.org/pandas-docs/stable/indexing.html#indexing-view-versus-copy\n"
     ]
    }
   ],
   "source": [
    "red = pd.read_csv(\"winequality-red.csv\")\n",
    "white = pd.read_csv(\"winequality-white.csv\")\n",
    "red = red.append(white)\n",
    "wine = red\n",
    "bins = [2, 6, 9]\n",
    "labels = [\"Bad Wine\", \"Good Wine\"]\n",
    "wine[\"quality\"] = pd.cut(wine[\"quality\"], labels=labels, bins=bins)\n",
    "X = wine.drop(columns=[\"type\", \"quality\"])\n",
    "y = wine[\"quality\"]\n",
    "X_train, X_test, y_train, y_test = train_test_split(X, y, random_state=1, stratify=y)\n",
    "scaler = MinMaxScaler()\n",
    "X_train_scaled = scaler.fit_transform(X_train)\n",
    "X_test_scaled = scaler.fit_transform(X_test) \n",
    "params = {\n",
    "    \"n_neighbors\": np.arange(1, 10, 1)\n",
    "}\n",
    "mygrid = GridSearchCV(KNeighborsClassifier(), param_grid=params)\n",
    "mygrid.fit(X_train_scaled, y_train)\n",
    "#param\n",
    "model_score_quality = mygrid.score(X_test_scaled, y_test)\n",
    "#param\n",
    "grid_search_quality = pd.DataFrame(mygrid.cv_results_).to_html().replace(\"\\n\", \"\").replace('<tr style=\"text-align: right;\">', '<tr>')\n",
    "predictions = mygrid.predict(X_test_scaled)\n",
    "conf = confusion_matrix(y_test, predictions)\n",
    "data = {\n",
    "    \"Red\": [conf[0][0], conf[1][0]],\n",
    "    \"White\": [conf[0][1], conf[1][1]]\n",
    "}\n",
    "conf_table_quality = pd.DataFrame(data, index=[\"Red\", \"White\"]).to_html().replace(\"\\n\", \"\").replace('<tr style=\"text-align: right;\">', '<tr>')\n",
    "class_report_quality = classification_report(y_test, predictions, output_dict=True)\n",
    "#param\n",
    "class_report_quality = pd.DataFrame(class_report_quality).to_html().replace(\"\\n\", \"\").replace('<tr style=\"text-align: right;\">', '<tr>')\n",
    "#use same prediction as Wine Type\n",
    "result_df = X_test\n",
    "result_df[\"Predictions\"] = predictions\n",
    "result_df[\"Actual\"] = y_test\n",
    "result_df = result_df.reset_index()\n",
    "ran_selection = pd.DataFrame(result_df.iloc[ran]).transpose()\n",
    "#param\n",
    "current_pred = ran_selection[\"Predictions\"]\n",
    "actual = ran_selection[\"Actual\"]\n",
    "#param\n",
    "result_table_quality = pd.DataFrame({\"Predicted\": current_pred, \"Actual\": actual}).to_html().replace(\"\\n\", \"\").replace('<tr style=\"text-align: right;\">', '<tr>')\n",
    "print(grid_search_quality, conf_table_quality, class_report_quality, result_table_quality, model_score_quality)"
   ]
  },
  {
   "cell_type": "code",
   "execution_count": null,
   "metadata": {},
   "outputs": [],
   "source": []
  }
 ],
 "metadata": {
  "kernelspec": {
   "display_name": "Python 3",
   "language": "python",
   "name": "python3"
  },
  "language_info": {
   "codemirror_mode": {
    "name": "ipython",
    "version": 3
   },
   "file_extension": ".py",
   "mimetype": "text/x-python",
   "name": "python",
   "nbconvert_exporter": "python",
   "pygments_lexer": "ipython3",
   "version": "3.7.3"
  }
 },
 "nbformat": 4,
 "nbformat_minor": 2
}
