{
 "cells": [
  {
   "cell_type": "code",
   "execution_count": 3,
   "metadata": {},
   "outputs": [],
   "source": [
    "\n",
    "import pandas as pd\n",
    "from sklearn.model_selection import train_test_split\n",
    "from sklearn.preprocessing import MinMaxScaler\n",
    "from sklearn.linear_model import LogisticRegression\n",
    "from sklearn.ensemble import RandomForestClassifier\n",
    "import random\n",
    "import numpy as np\n",
    "from sklearn.metrics import confusion_matrix\n",
    "from sklearn.metrics import classification_report\n",
    "from sklearn.model_selection import GridSearchCV"
   ]
  },
  {
   "cell_type": "code",
   "execution_count": 2,
   "metadata": {},
   "outputs": [
    {
     "ename": "NameError",
     "evalue": "name 'np' is not defined",
     "output_type": "error",
     "traceback": [
      "\u001b[1;31m---------------------------------------------------------------------------\u001b[0m",
      "\u001b[1;31mNameError\u001b[0m                                 Traceback (most recent call last)",
      "\u001b[1;32m<ipython-input-2-2e294c69f135>\u001b[0m in \u001b[0;36m<module>\u001b[1;34m\u001b[0m\n\u001b[0;32m     13\u001b[0m \u001b[0mX_test_scaled\u001b[0m \u001b[1;33m=\u001b[0m \u001b[0mscaler\u001b[0m\u001b[1;33m.\u001b[0m\u001b[0mfit_transform\u001b[0m\u001b[1;33m(\u001b[0m\u001b[0mX_test\u001b[0m\u001b[1;33m)\u001b[0m\u001b[1;33m\u001b[0m\u001b[1;33m\u001b[0m\u001b[0m\n\u001b[0;32m     14\u001b[0m params = {\n\u001b[1;32m---> 15\u001b[1;33m     \u001b[1;34m\"n_estimators\"\u001b[0m\u001b[1;33m:\u001b[0m \u001b[0mnp\u001b[0m\u001b[1;33m.\u001b[0m\u001b[0marange\u001b[0m\u001b[1;33m(\u001b[0m\u001b[1;36m60\u001b[0m\u001b[1;33m,\u001b[0m \u001b[1;36m120\u001b[0m\u001b[1;33m,\u001b[0m \u001b[1;36m10\u001b[0m\u001b[1;33m)\u001b[0m\u001b[1;33m\u001b[0m\u001b[1;33m\u001b[0m\u001b[0m\n\u001b[0m\u001b[0;32m     16\u001b[0m }\n\u001b[0;32m     17\u001b[0m \u001b[0mmygrid\u001b[0m \u001b[1;33m=\u001b[0m \u001b[0mGridSearchCV\u001b[0m\u001b[1;33m(\u001b[0m\u001b[0mRandomForestClassifier\u001b[0m\u001b[1;33m(\u001b[0m\u001b[1;33m)\u001b[0m\u001b[1;33m,\u001b[0m \u001b[0mparam_grid\u001b[0m\u001b[1;33m=\u001b[0m\u001b[0mparams\u001b[0m\u001b[1;33m)\u001b[0m\u001b[1;33m\u001b[0m\u001b[1;33m\u001b[0m\u001b[0m\n",
      "\u001b[1;31mNameError\u001b[0m: name 'np' is not defined"
     ]
    }
   ],
   "source": [
    "red = pd.read_csv(\"winequality-red.csv\")\n",
    "white = pd.read_csv(\"winequality-white.csv\")\n",
    "red = red.append(white)\n",
    "wine = red\n",
    "bins = [2, 6, 9]\n",
    "labels = [\"Bad Wine\", \"Good Wine\"]\n",
    "wine[\"quality\"] = pd.cut(wine[\"quality\"], labels=labels, bins=bins)\n",
    "X = wine.drop(columns=[\"type\", \"quality\"])\n",
    "y = wine[\"quality\"]\n",
    "X_train, X_test, y_train, y_test = train_test_split(X, y, random_state=1, stratify=y)\n",
    "scaler = MinMaxScaler()\n",
    "X_train_scaled = scaler.fit_transform(X_train)\n",
    "X_test_scaled = scaler.fit_transform(X_test) \n",
    "params = {\n",
    "    \"n_estimators\": np.arange(60, 120, 10)\n",
    "}\n",
    "mygrid = GridSearchCV(RandomForestClassifier(), param_grid=params)\n",
    "mygrid.fit(X_train_scaled, y_train)\n",
    "#param\n",
    "model_score_quality = mygrid.score(X_test_scaled, y_test)\n",
    "#param\n",
    "grid_search_quality = pd.DataFrame(mygrid.cv_results_).to_html().replace(\"\\n\", \"\").replace('<tr style=\"text-align: right;\">', '<tr>')\n",
    "predictions = mygrid.predict(X_test_scaled)\n",
    "conf = confusion_matrix(y_test, predictions)\n",
    "data = {\n",
    "    \"Red\": [conf[0][0], conf[1][0]],\n",
    "    \"White\": [conf[0][1], conf[1][1]]\n",
    "}\n",
    "conf_table_quality = pd.DataFrame(data, index=[\"Red\", \"White\"]).to_html().replace(\"\\n\", \"\").replace('<tr style=\"text-align: right;\">', '<tr>')\n",
    "class_report_quality = classification_report(y_test, predictions, output_dict=True)\n",
    "#param\n",
    "class_report_quality = pd.DataFrame(class_report_quality).to_html().replace(\"\\n\", \"\").replace('<tr style=\"text-align: right;\">', '<tr>')\n",
    "#use same prediction as Wine Type\n",
    "result_df = X_test\n",
    "result_df[\"Predictions\"] = predictions\n",
    "result_df[\"Actual\"] = y_test\n",
    "result_df = result_df.reset_index()\n",
    "ran_selection = pd.DataFrame(result_df.iloc[ran]).transpose()\n",
    "#param\n",
    "current_pred = ran_selection[\"Predictions\"]\n",
    "actual = ran_selection[\"Actual\"]\n",
    "#param\n",
    "result_table_quality = pd.DataFrame({\"Predicted\": current_pred, \"Actual\": actual}).to_html().replace(\"\\n\", \"\").replace('<tr style=\"text-align: right;\">', '<tr>')\n",
    "ran = \"\"\n",
    "print(grid_search_quality, conf_table_quality, class_report_quality, result_table_quality, model_score_quality)"
   ]
  },
  {
   "cell_type": "code",
   "execution_count": null,
   "metadata": {},
   "outputs": [],
   "source": []
  }
 ],
 "metadata": {
  "kernelspec": {
   "display_name": "Python 3",
   "language": "python",
   "name": "python3"
  },
  "language_info": {
   "codemirror_mode": {
    "name": "ipython",
    "version": 3
   },
   "file_extension": ".py",
   "mimetype": "text/x-python",
   "name": "python",
   "nbconvert_exporter": "python",
   "pygments_lexer": "ipython3",
   "version": "3.7.3"
  }
 },
 "nbformat": 4,
 "nbformat_minor": 2
}
