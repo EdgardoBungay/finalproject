{
 "cells": [
  {
   "cell_type": "code",
   "execution_count": 5,
   "metadata": {},
   "outputs": [],
   "source": [
    "import pandas as pd\n",
    "from sklearn.model_selection import train_test_split\n",
    "from sklearn.preprocessing import MinMaxScaler\n",
    "from sklearn.ensemble import RandomForestClassifier\n",
    "import random\n",
    "from sklearn.metrics import confusion_matrix\n",
    "from sklearn.metrics import classification_report\n",
    "from sklearn.model_selection import GridSearchCV"
   ]
  },
  {
   "cell_type": "code",
   "execution_count": 19,
   "metadata": {},
   "outputs": [],
   "source": [
    "\n",
    "red = pd.read_csv(\"winequality-red.csv\")\n",
    "white = pd.read_csv(\"winequality-white.csv\")\n",
    "red = red.append(white)\n",
    "wine = red\n",
    "X = wine.drop(columns=[\"type\", \"quality\"])\n",
    "y = wine[\"type\"]\n",
    "X_train, X_test, y_train, y_test = train_test_split(X, y, train_size=0.75, random_state=1, stratify=y)\n",
    "scaler = MinMaxScaler()\n",
    "X_train_scaled = scaler.fit_transform(X_train)\n",
    "X_test_scaled = scaler.fit_transform(X_test) \n",
    "\n",
    "model = RandomForestClassifier()\n",
    "model.fit(X_train_scaled, y_train)\n",
    "#param\n",
    "model_score = model.score(X_test_scaled, y_test)\n",
    "predictions = model.predict(X_test_scaled)\n",
    "conf = confusion_matrix(y_test, predictions)\n",
    "data = {\n",
    "    \"Red\": [conf[0][0], conf[1][0]],\n",
    "    \"White\": [conf[0][1], conf[1][1]]\n",
    "}\n",
    "#param\n",
    "conf_table = pd.DataFrame(data, index=[\"Red\", \"White\"]).to_html().replace(\"\\n\", \"\").replace('<tr style=\"text-align: right;\">', '<tr>')\n",
    "class_report = classification_report(y_test, predictions, output_dict=True)\n",
    "#param\n",
    "class_report = pd.DataFrame(class_report).to_html().replace(\"\\n\", \"\").replace('<tr style=\"text-align: right;\">', '<tr>')\n",
    "\n",
    "result_df = X_test\n",
    "result_df[\"Predictions\"] = predictions\n",
    "result_df[\"Actual\"] = y_test\n",
    "result_df = result_df.reset_index()\n",
    "global ran\n",
    "ran = random.randrange(0, len(X_test))\n",
    "ran_selection = pd.DataFrame(result_df.iloc[ran]).transpose()\n",
    "current_params = ran_selection.drop(columns=[\"index\", \"Predictions\", \"Actual\"])\n",
    "#param\n",
    "params_table = current_params.to_html(index=False).replace(\"\\n\", \"\").replace('<tr style=\"text-align: right;\">', '<tr>')\n",
    "current_pred = ran_selection[\"Predictions\"]\n",
    "actual = ran_selection[\"Actual\"]\n",
    "#param\n",
    "result_table = pd.DataFrame({\"Predicted\": current_pred, \"Actual\": actual}).to_html().replace(\"\\n\", \"\").replace('<tr style=\"text-align: right;\">', '<tr>')\n"
   ]
  },
  {
   "cell_type": "code",
   "execution_count": 20,
   "metadata": {},
   "outputs": [
    {
     "name": "stderr",
     "output_type": "stream",
     "text": [
      "C:\\ProgramData\\Anaconda3\\lib\\site-packages\\ipykernel_launcher.py:2: SettingWithCopyWarning: \n",
      "A value is trying to be set on a copy of a slice from a DataFrame.\n",
      "Try using .loc[row_indexer,col_indexer] = value instead\n",
      "\n",
      "See the caveats in the documentation: http://pandas.pydata.org/pandas-docs/stable/indexing.html#indexing-view-versus-copy\n",
      "  \n",
      "C:\\ProgramData\\Anaconda3\\lib\\site-packages\\ipykernel_launcher.py:3: SettingWithCopyWarning: \n",
      "A value is trying to be set on a copy of a slice from a DataFrame.\n",
      "Try using .loc[row_indexer,col_indexer] = value instead\n",
      "\n",
      "See the caveats in the documentation: http://pandas.pydata.org/pandas-docs/stable/indexing.html#indexing-view-versus-copy\n",
      "  This is separate from the ipykernel package so we can avoid doing imports until\n"
     ]
    }
   ],
   "source": []
  },
  {
   "cell_type": "code",
   "execution_count": 18,
   "metadata": {},
   "outputs": [
    {
     "data": {
      "text/plain": [
       "0.9692307692307692"
      ]
     },
     "execution_count": 18,
     "metadata": {},
     "output_type": "execute_result"
    }
   ],
   "source": []
  },
  {
   "cell_type": "code",
   "execution_count": null,
   "metadata": {},
   "outputs": [],
   "source": []
  },
  {
   "cell_type": "code",
   "execution_count": null,
   "metadata": {},
   "outputs": [],
   "source": []
  },
  {
   "cell_type": "code",
   "execution_count": null,
   "metadata": {},
   "outputs": [],
   "source": []
  },
  {
   "cell_type": "code",
   "execution_count": null,
   "metadata": {},
   "outputs": [],
   "source": []
  }
 ],
 "metadata": {
  "kernelspec": {
   "display_name": "Python 3",
   "language": "python",
   "name": "python3"
  },
  "language_info": {
   "codemirror_mode": {
    "name": "ipython",
    "version": 3
   },
   "file_extension": ".py",
   "mimetype": "text/x-python",
   "name": "python",
   "nbconvert_exporter": "python",
   "pygments_lexer": "ipython3",
   "version": "3.7.3"
  }
 },
 "nbformat": 4,
 "nbformat_minor": 2
}
