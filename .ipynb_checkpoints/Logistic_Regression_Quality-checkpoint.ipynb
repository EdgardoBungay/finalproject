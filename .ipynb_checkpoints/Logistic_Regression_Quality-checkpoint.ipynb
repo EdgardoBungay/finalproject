{
 "cells": [
  {
   "cell_type": "code",
   "execution_count": 6,
   "metadata": {},
   "outputs": [],
   "source": [
    "import pandas as pd\n",
    "from sklearn.model_selection import train_test_split\n",
    "from sklearn.preprocessing import MinMaxScaler\n",
    "from sklearn.linear_model import LogisticRegression\n",
    "import random\n",
    "from sklearn.metrics import confusion_matrix\n",
    "from sklearn.metrics import classification_report\n",
    "from sklearn.model_selection import GridSearchCV"
   ]
  },
  {
   "cell_type": "code",
   "execution_count": 46,
   "metadata": {},
   "outputs": [
    {
     "data": {
      "text/plain": [
       "<bound method ClassifierMixin.score of LogisticRegression(C=0.75, class_weight=None, dual=False, fit_intercept=True,\n",
       "                   intercept_scaling=1, l1_ratio=None, max_iter=99999999,\n",
       "                   multi_class='auto', n_jobs=None, penalty='l2',\n",
       "                   random_state=None, solver='newton-cg', tol=0.0001, verbose=0,\n",
       "                   warm_start=False)>"
      ]
     },
     "execution_count": 46,
     "metadata": {},
     "output_type": "execute_result"
    }
   ],
   "source": [
    "red = pd.read_csv(\"winequality-red.csv\")\n",
    "white = pd.read_csv(\"winequality-white.csv\")\n",
    "red = red.append(white)\n",
    "wine = red\n",
    "\n",
    "\n",
    "bins = [2, 6, 9]\n",
    "labels = [\"Bad Wine\", \"Good Wine\"]\n",
    "wine[\"quality\"] = pd.cut(wine[\"quality\"], labels=labels, bins=bins)\n",
    "\n",
    "X = wine.drop(columns=[\"type\", \"quality\"])\n",
    "y = wine[\"quality\"]\n",
    "X_train, X_test, y_train, y_test = train_test_split(X, y, random_state=1, stratify=y)\n",
    "scaler = MinMaxScaler()\n",
    "X_train_scaled = scaler.fit_transform(X_train)\n",
    "X_test_scaled = scaler.fit_transform(X_test) \n",
    "params = {\n",
    "    \"solver\": [\"newton-cg\", \"liblinear\", \"sag\", \"saga\"],\n",
    "    \"C\": [0.75, 1, 0.25]\n",
    "}\n",
    "mygrid = GridSearchCV(LogisticRegression(max_iter=99999999), param_grid=params)\n",
    "mygrid.fit(X_train_scaled, y_train)\n",
    "\n",
    "#param\n",
    "model_score_quality = mygrid.score(X_test_scaled, y_test)\n",
    "\n",
    "#param\n",
    "grid_search_quality = pd.DataFrame(mygrid.cv_results_)\n",
    "grid_search_quality\n",
    "mygrid.best_estimator_.score"
   ]
  },
  {
   "cell_type": "code",
   "execution_count": 42,
   "metadata": {},
   "outputs": [
    {
     "name": "stderr",
     "output_type": "stream",
     "text": [
      "C:\\ProgramData\\Anaconda3\\lib\\site-packages\\ipykernel_launcher.py:16: SettingWithCopyWarning: \n",
      "A value is trying to be set on a copy of a slice from a DataFrame.\n",
      "Try using .loc[row_indexer,col_indexer] = value instead\n",
      "\n",
      "See the caveats in the documentation: http://pandas.pydata.org/pandas-docs/stable/indexing.html#indexing-view-versus-copy\n",
      "  app.launch_new_instance()\n",
      "C:\\ProgramData\\Anaconda3\\lib\\site-packages\\ipykernel_launcher.py:17: SettingWithCopyWarning: \n",
      "A value is trying to be set on a copy of a slice from a DataFrame.\n",
      "Try using .loc[row_indexer,col_indexer] = value instead\n",
      "\n",
      "See the caveats in the documentation: http://pandas.pydata.org/pandas-docs/stable/indexing.html#indexing-view-versus-copy\n"
     ]
    },
    {
     "data": {
      "text/plain": [
       "0.7932307692307692"
      ]
     },
     "execution_count": 42,
     "metadata": {},
     "output_type": "execute_result"
    }
   ],
   "source": [
    "predictions = mygrid.predict(X_test_scaled)\n",
    "conf = confusion_matrix(y_test, predictions)\n",
    "data = {\n",
    "    \"Red\": [conf[0][0], conf[1][0]],\n",
    "    \"White\": [conf[0][1], conf[1][1]]\n",
    "}\n",
    "conf_table_quality = pd.DataFrame(data, index=[\"Red\", \"White\"]).to_html().replace(\"\\n\", \"\").replace('<tr style=\"text-align: right;\">', '<tr>')\n",
    "class_report_quality = classification_report(y_test, predictions, output_dict=True)\n",
    "#param\n",
    "class_report_quality = pd.DataFrame(class_report_quality)\n",
    "\n",
    "\n",
    "\n",
    "#use same prediction as Wine Type\n",
    "result_df = X_test\n",
    "result_df[\"Predictions\"] = predictions\n",
    "result_df[\"Actual\"] = y_test\n",
    "result_df = result_df.reset_index()\n",
    "ran_selection = pd.DataFrame(result_df.iloc[ran]).transpose()\n",
    "current_params = ran_selection.drop(columns=[\"index\", \"Predictions\", \"Actual\"])\n",
    "#param\n",
    "params_table = current_params.to_html(index=False).replace(\"\\n\", \"\").replace('<tr style=\"text-align: right;\">', '<tr>')\n",
    "current_pred = ran_selection[\"Predictions\"]\n",
    "actual = ran_selection[\"Actual\"]\n",
    "#param\n",
    "result_table_quality = pd.DataFrame({\"Predicted\": current_pred, \"Actual\": actual}).to_html().replace(\"\\n\", \"\").replace('<tr style=\"text-align: right;\">', '<tr>')\n",
    "model_score_quality"
   ]
  },
  {
   "cell_type": "code",
   "execution_count": 38,
   "metadata": {},
   "outputs": [
    {
     "name": "stderr",
     "output_type": "stream",
     "text": [
      "C:\\ProgramData\\Anaconda3\\lib\\site-packages\\ipykernel_launcher.py:4: SettingWithCopyWarning: \n",
      "A value is trying to be set on a copy of a slice from a DataFrame.\n",
      "Try using .loc[row_indexer,col_indexer] = value instead\n",
      "\n",
      "See the caveats in the documentation: http://pandas.pydata.org/pandas-docs/stable/indexing.html#indexing-view-versus-copy\n",
      "  after removing the cwd from sys.path.\n",
      "C:\\ProgramData\\Anaconda3\\lib\\site-packages\\ipykernel_launcher.py:5: SettingWithCopyWarning: \n",
      "A value is trying to be set on a copy of a slice from a DataFrame.\n",
      "Try using .loc[row_indexer,col_indexer] = value instead\n",
      "\n",
      "See the caveats in the documentation: http://pandas.pydata.org/pandas-docs/stable/indexing.html#indexing-view-versus-copy\n",
      "  \"\"\"\n"
     ]
    },
    {
     "data": {
      "text/plain": [
       "'<table border=\"1\" class=\"dataframe\">  <thead>    <tr>      <th></th>      <th>Predicted</th>      <th>Actual</th>    </tr>  </thead>  <tbody>    <tr>      <th>1004</th>      <td>Bad Wine</td>      <td>Good Wine</td>    </tr>  </tbody></table>'"
      ]
     },
     "execution_count": 38,
     "metadata": {},
     "output_type": "execute_result"
    }
   ],
   "source": []
  },
  {
   "cell_type": "code",
   "execution_count": null,
   "metadata": {},
   "outputs": [],
   "source": []
  },
  {
   "cell_type": "code",
   "execution_count": null,
   "metadata": {},
   "outputs": [],
   "source": []
  },
  {
   "cell_type": "code",
   "execution_count": null,
   "metadata": {},
   "outputs": [],
   "source": []
  },
  {
   "cell_type": "code",
   "execution_count": null,
   "metadata": {},
   "outputs": [],
   "source": []
  },
  {
   "cell_type": "code",
   "execution_count": null,
   "metadata": {},
   "outputs": [],
   "source": []
  },
  {
   "cell_type": "code",
   "execution_count": null,
   "metadata": {},
   "outputs": [],
   "source": []
  },
  {
   "cell_type": "code",
   "execution_count": null,
   "metadata": {},
   "outputs": [],
   "source": []
  },
  {
   "cell_type": "code",
   "execution_count": null,
   "metadata": {},
   "outputs": [],
   "source": []
  },
  {
   "cell_type": "code",
   "execution_count": null,
   "metadata": {},
   "outputs": [],
   "source": []
  },
  {
   "cell_type": "code",
   "execution_count": null,
   "metadata": {},
   "outputs": [],
   "source": []
  },
  {
   "cell_type": "code",
   "execution_count": null,
   "metadata": {},
   "outputs": [],
   "source": []
  }
 ],
 "metadata": {
  "kernelspec": {
   "display_name": "Python 3",
   "language": "python",
   "name": "python3"
  },
  "language_info": {
   "codemirror_mode": {
    "name": "ipython",
    "version": 3
   },
   "file_extension": ".py",
   "mimetype": "text/x-python",
   "name": "python",
   "nbconvert_exporter": "python",
   "pygments_lexer": "ipython3",
   "version": "3.7.3"
  }
 },
 "nbformat": 4,
 "nbformat_minor": 2
}
